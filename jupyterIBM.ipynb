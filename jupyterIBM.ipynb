{
  "metadata": {
    "language_info": {
      "codemirror_mode": {
        "name": "python",
        "version": 3
      },
      "file_extension": ".py",
      "mimetype": "text/x-python",
      "name": "python",
      "nbconvert_exporter": "python",
      "pygments_lexer": "ipython3",
      "version": "3.8"
    },
    "kernelspec": {
      "name": "python",
      "display_name": "Python (Pyodide)",
      "language": "python"
    }
  },
  "nbformat_minor": 4,
  "nbformat": 4,
  "cells": [
    {
      "cell_type": "markdown",
      "source": "# My Jupyter Notebook on IBM Watson Studio",
      "metadata": {}
    },
    {
      "cell_type": "markdown",
      "source": "**Golnaz Almasi** \nstudent",
      "metadata": {}
    },
    {
      "cell_type": "markdown",
      "source": "*I am intrested in data science because I want to learn more about machine learning and artificial inteligence*",
      "metadata": {}
    },
    {
      "cell_type": "markdown",
      "source": "### execute simple math and output the result",
      "metadata": {}
    },
    {
      "cell_type": "code",
      "source": "2+3%4",
      "metadata": {
        "trusted": true
      },
      "execution_count": 3,
      "outputs": [
        {
          "execution_count": 3,
          "output_type": "execute_result",
          "data": {
            "text/plain": "5"
          },
          "metadata": {}
        }
      ]
    },
    {
      "cell_type": "markdown",
      "source": " - bullet point -\n> Text that will be indented when the Markdown is rendered.\n1. number\n1. number \n    1. number \n\n",
      "metadata": {}
    }
  ]
}